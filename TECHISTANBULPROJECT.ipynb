{
 "cells": [
  {
   "cell_type": "code",
   "execution_count": 1,
   "id": "6a791cb3-e92e-4b96-b36b-e17897c92023",
   "metadata": {},
   "outputs": [
    {
     "name": "stdout",
     "output_type": "stream",
     "text": [
      "Lütfen almak istediğiniz kıyafetleri seçin.\n"
     ]
    },
    {
     "name": "stdin",
     "output_type": "stream",
     "text": [
      "Pantolon almak ister misiniz? (E/H):  E\n",
      "Gömlek almak ister misiniz? (E/H):  H\n",
      "Ayakkabı almak ister misiniz? (E/H):  E\n",
      "Ekstra olarak Tişört almak ister misiniz? (E/H):  H\n",
      "Ekstra olarak Çorap almak ister misiniz? (E/H):  H\n",
      "Yanına bir de Mont almak ister misiniz? (E/H):  H\n"
     ]
    },
    {
     "name": "stdout",
     "output_type": "stream",
     "text": [
      "\n",
      "Siparişiniz:\n",
      "- Pantolon: 1350 TL\n",
      "- Ayakkabı: 1500 TL\n",
      "Toplam Sipariş Ücreti: 2850 TL\n"
     ]
    }
   ],
   "source": [
    "# Ürün fiyatlarını tanımlıyoruz\n",
    "fiyatlar = {\n",
    "    \"Pantolon\": 1350,\n",
    "    \"Gömlek\": 850,\n",
    "    \"Ayakkabı\": 1500,\n",
    "    \"Tişört\": 250,\n",
    "    \"Çorap\": 150,\n",
    "    \"Mont\": 850\n",
    "}\n",
    "\n",
    "//Sipariş toplama ve hesaplama fonksiyonu\n",
    "def siparis_ver():\n",
    "    toplam_ucret = 0\n",
    "    siparis_listesi = []\n",
    "\n",
    "    print(\"Lütfen almak istediğiniz kıyafetleri seçin.\")\n",
    "    # Ana ürünlerin seçimi\n",
    "    for urun in [\"Pantolon\", \"Gömlek\", \"Ayakkabı\"]:\n",
    "        cevap = input(f\"{urun} almak ister misiniz? (E/H): \").strip().upper()\n",
    "        if cevap == 'E':\n",
    "            toplam_ucret += fiyatlar[urun]\n",
    "            siparis_listesi.append(urun)\n",
    "\n",
    "    # Ekstra ürünlerin seçimi\n",
    "    for ekstra_urun in [\"Tişört\", \"Çorap\"]:\n",
    "        cevap = input(f\"Ekstra olarak {ekstra_urun} almak ister misiniz? (E/H): \").strip().upper()\n",
    "        if cevap == 'E':\n",
    "            toplam_ucret += fiyatlar[ekstra_urun]\n",
    "            siparis_listesi.append(ekstra_urun)\n",
    "\n",
    "    # Mont seçimi\n",
    "    cevap = input(\"Yanına bir de Mont almak ister misiniz? (E/H): \").strip().upper()\n",
    "    if cevap == 'E':\n",
    "        toplam_ucret += fiyatlar[\"Mont\"]\n",
    "        siparis_listesi.append(\"Mont\")\n",
    "\n",
    "    # Sipariş özetini göster\n",
    "    print(\"\\nSiparişiniz:\")\n",
    "    for urun in siparis_listesi:\n",
    "        print(f\"- {urun}: {fiyatlar[urun]} TL\")\n",
    "    print(f\"Toplam Sipariş Ücreti: {toplam_ucret} TL\")\n",
    "\n",
    "# Fonksiyonu çağır\n",
    "siparis_ver()\n"
   ]
  },
  {
   "cell_type": "code",
   "execution_count": null,
   "id": "ba4b8f9c-2a95-40c6-bbf7-b726fdd826f6",
   "metadata": {},
   "outputs": [],
   "source": [
    "\n"
   ]
  }
 ],
 "metadata": {
  "kernelspec": {
   "display_name": "Python 3 (ipykernel)",
   "language": "python",
   "name": "python3"
  },
  "language_info": {
   "codemirror_mode": {
    "name": "ipython",
    "version": 3
   },
   "file_extension": ".py",
   "mimetype": "text/x-python",
   "name": "python",
   "nbconvert_exporter": "python",
   "pygments_lexer": "ipython3",
   "version": "3.11.7"
  }
 },
 "nbformat": 4,
 "nbformat_minor": 5
}
